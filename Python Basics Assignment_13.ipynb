{
 "cells": [
  {
   "cell_type": "markdown",
   "source": [
    "# 1. What advantages do Excel spreadsheets have over CSV spreadsheets?"
   ],
   "metadata": {}
  },
  {
   "cell_type": "markdown",
   "source": [
    "Ans: The Advantages of Excel over CSV are:\n",
    "\n",
    "    1. Excel (XLS and XLSX) file formats are better for storing and analysing complex data.\n",
    "    2. An Excel not only stores data but can also do operations on the data using macros, formulas etc\n",
    "    3. CSV files are plain-text files, Does not contain formatting, formulas, macros, etc. It is also known as flat files"
   ],
   "metadata": {}
  },
  {
   "cell_type": "markdown",
   "source": [
    "# 2.What do you pass to csv.reader() and csv.writer() to create reader and writer objects?"
   ],
   "metadata": {}
  },
  {
   "cell_type": "code",
   "execution_count": null,
   "source": [
    "import csv\r\n",
    "with open('text.csv','r') as file:\r\n",
    "    csv_file = csv.reader(file,delimiter=',')\r\n",
    "    for ele in csv_file:\r\n",
    "        print(ele)"
   ],
   "outputs": [],
   "metadata": {}
  },
  {
   "cell_type": "markdown",
   "source": [
    "# 3. What modes do File objects for reader and writer objects need to be opened in?"
   ],
   "metadata": {}
  },
  {
   "cell_type": "markdown",
   "source": [
    "Ans: For csv.reader(iterable_file_object), the file objects needed to be opened in read mode mode='r' Whereas for csv.writer(iterable_file_object) the file objects needed to be opened in write mode mode='w'"
   ],
   "metadata": {}
  },
  {
   "cell_type": "markdown",
   "source": [
    "# 4. What method takes a list argument and writes it to a CSV file?"
   ],
   "metadata": {}
  },
  {
   "cell_type": "markdown",
   "source": [
    "Ans: csv.writer class provides two methods for writing to CSV. They are writerow() and writerows(). writerow() method writes a single row at a time. Whereas writerows() method is used to write multiple rows at a time."
   ],
   "metadata": {}
  },
  {
   "cell_type": "code",
   "execution_count": null,
   "source": [
    "# Example Program\r\n",
    "import csv      \r\n",
    "fields = ['Name', 'Branch', 'Year', 'CGPA'] #column names \r\n",
    "rows = [ \r\n",
    "            ['Nikhil', 'COE', '2', '9.0'],  # data rows of csv file \r\n",
    "            ['Sanchit', 'COE', '2', '9.1'], \r\n",
    "            ['Ravi', 'IT', '2', '9.3']\r\n",
    "       ] \r\n",
    "with open(\"university_records.csv\", 'w') as csvfile: \r\n",
    "    csvwriter = csv.writer(csvfile) # creating a csv writer object \r\n",
    "    csvwriter.writerow(fields) # writing the fields \r\n",
    "    csvwriter.writerows(rows) # writing the data rows "
   ],
   "outputs": [],
   "metadata": {}
  },
  {
   "cell_type": "markdown",
   "source": [
    "# 5. What do the keyword arguments delimiter and line terminator do?"
   ],
   "metadata": {}
  },
  {
   "cell_type": "code",
   "execution_count": null,
   "source": [
    "Ans: Lets take the example of a csv file:\r\n",
    "First Name, Last Name, Age\r\n",
    "Mano, Vishnu, 24\r\n",
    "Vishnu, Vardhan, 21\r\n",
    "Here ',' is Delimiter. We can use any Character as per our needs if required. Similarly Line Terminator comes at end of line by default it is newline and can be changed accourding to Requirement."
   ],
   "outputs": [],
   "metadata": {}
  },
  {
   "cell_type": "markdown",
   "source": [
    "# 6. What function takes a string of JSON data and returns a Python data structure?"
   ],
   "metadata": {}
  },
  {
   "cell_type": "markdown",
   "source": [
    "Ans: loads() method takes a string of JSON data and returns a Python data structure"
   ],
   "metadata": {}
  },
  {
   "cell_type": "code",
   "execution_count": null,
   "source": [
    "# Example of json.loads() method\r\n",
    "import json\r\n",
    "my_details_json ='''{\r\n",
    "    \"Name\": \"Mano Vishnu\",\r\n",
    "    \"Qualification\": \"Bachelor of Technology\",\r\n",
    "    \"Stream\": \"Computer Science and Engineering\"\r\n",
    "}'''\r\n",
    "print(my_details_json)\r\n",
    "print(f'Type of my_details_json is {type(my_details_json)}')\r\n",
    "my_details = json.loads(my_details_json)\r\n",
    "print(my_details)\r\n",
    "print(f'Type of my_details is {type(my_details)}')"
   ],
   "outputs": [],
   "metadata": {}
  },
  {
   "cell_type": "markdown",
   "source": [
    "# 7. What function takes a Python data structure and returns a string of JSON data?"
   ],
   "metadata": {}
  },
  {
   "cell_type": "markdown",
   "source": [
    "Ans: dumps() method takes a python data structure and returns a string of JSON data"
   ],
   "metadata": {}
  },
  {
   "cell_type": "code",
   "execution_count": null,
   "source": [
    "# Example of json.dumps() method\r\n",
    "import json\r\n",
    "my_details = {\r\n",
    "    'Name':'Mano Vishnu',\r\n",
    "    'Stream':'Computer Science and Engineering',\r\n",
    "    'Qualification':'Bachelor of Technology'\r\n",
    "}\r\n",
    "print(my_details)\r\n",
    "print(f'Type of my_details is {type(my_details)}')\r\n",
    "my_details_json = json.dumps(my_details, indent=4, sort_keys=True)\r\n",
    "print(my_details_json)\r\n",
    "print(f'Type of my_details_json is {type(my_details_json)}')"
   ],
   "outputs": [],
   "metadata": {}
  }
 ],
 "metadata": {
  "kernelspec": {
   "display_name": "Python 3 (ipykernel)",
   "language": "python",
   "name": "python3"
  },
  "language_info": {
   "codemirror_mode": {
    "name": "ipython",
    "version": 3
   },
   "file_extension": ".py",
   "mimetype": "text/x-python",
   "name": "python",
   "nbconvert_exporter": "python",
   "pygments_lexer": "ipython3",
   "version": "3.10.9"
  }
 },
 "nbformat": 4,
 "nbformat_minor": 5
}